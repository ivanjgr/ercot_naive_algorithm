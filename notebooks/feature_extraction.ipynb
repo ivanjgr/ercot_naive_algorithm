{
 "cells": [
  {
   "cell_type": "code",
   "id": "initial_id",
   "metadata": {
    "collapsed": true,
    "ExecuteTime": {
     "end_time": "2024-12-04T19:23:26.456624Z",
     "start_time": "2024-12-04T19:23:26.453378Z"
    }
   },
   "source": [
    "import pandas as pd\n",
    "\n",
    "from os.path import join"
   ],
   "outputs": [],
   "execution_count": 32
  },
  {
   "metadata": {
    "ExecuteTime": {
     "end_time": "2024-12-04T19:02:22.574425Z",
     "start_time": "2024-12-04T19:02:22.571642Z"
    }
   },
   "cell_type": "code",
   "source": "DATA_BASE_PATH = '../data/'",
   "id": "31df82323c38245c",
   "outputs": [],
   "execution_count": 3
  },
  {
   "metadata": {
    "ExecuteTime": {
     "end_time": "2024-12-04T19:02:36.131329Z",
     "start_time": "2024-12-04T19:02:28.242524Z"
    }
   },
   "cell_type": "code",
   "source": [
    "virtual_trading_dataset = pd.read_csv(join(DATA_BASE_PATH, 'virtual_trading_data.csv'))\n",
    "virtual_trading_dataset[\"date\"] = pd.to_datetime(virtual_trading_dataset[\"date\"])"
   ],
   "id": "10fc0cdfa5016659",
   "outputs": [],
   "execution_count": 4
  },
  {
   "metadata": {
    "ExecuteTime": {
     "end_time": "2024-12-04T19:16:36.087875Z",
     "start_time": "2024-12-04T19:16:36.076769Z"
    }
   },
   "cell_type": "code",
   "source": [
    "def feature_extraction(df_time_series):\n",
    "    spp_name = df_time_series['settlementPoint'].unique()[0]\n",
    "    # 1. Basic Statistical Features\n",
    "    mean_returns = df_time_series['return_DA_RT'].mean()\n",
    "    std_returns = df_time_series['return_DA_RT'].std()\n",
    "    skew_returns = df_time_series['return_DA_RT'].skew()\n",
    "    kurt_returns = df_time_series['return_DA_RT'].kurt()\n",
    "    max_return = df_time_series['return_DA_RT'].max()\n",
    "    min_return = df_time_series['return_DA_RT'].min()\n",
    "    median_return = df_time_series['return_DA_RT'].median()\n",
    "\n",
    "    # 2. Volatility Features\n",
    "    # 2.1. Rolling Standard Deviation\n",
    "    rolling_std = df_time_series['return_DA_RT'].rolling(window=24).std().mean()\n",
    "    # 2.2. Mean Absolute Deviation\n",
    "    mad = (df_time_series['return_DA_RT'] - df_time_series['return_DA_RT'].mean()).abs().mean()\n",
    "    # 2.3. Difference between the max and min returns over the last 24 hours\n",
    "    max_min_diff = df_time_series['return_DA_RT'].rolling(window=24).apply(lambda x: x.max() - x.min()).mean()\n",
    "\n",
    "    # Risk metrics\n",
    "    var_return = df_time_series['return_DA_RT'].quantile(0.05)\n",
    "    expected_shortfall_return = df_time_series['return_DA_RT'][df_time_series['return_DA_RT'] < var_return].mean()\n",
    "    drawdown = (df_time_series['return_DA_RT'] - df_time_series['return_DA_RT'].cummax()).min()\n",
    "\n",
    "    # Returns distribution\n",
    "    proportion_positiv_ret = len(df_time_series['return_DA_RT'] > 0) / len(df_time_series)\n",
    "    proportion_negativ_ret = 1.0 - proportion_positiv_ret\n",
    "    return_25_quantile = df_time_series['return_DA_RT'].quantile(0.25)\n",
    "    return_50_quantile = df_time_series['return_DA_RT'].quantile(0.50)\n",
    "    return_75_quantile = df_time_series['return_DA_RT'].quantile(0.75)\n",
    "\n",
    "    # Time-Domain Features\n",
    "    avg_h_returns = []\n",
    "    std_h_returns = []\n",
    "    for h in range(24):\n",
    "        avg_h_returns.append(df_time_series[df_time_series['hour'] == h]['return_DA_RT'].mean())\n",
    "        std_h_returns.append(df_time_series[df_time_series['hour'] == h]['return_DA_RT'].std())\n",
    "\n",
    "    # 24 hours mean cumulative returns\n",
    "    # Reset the cumulative sum at the beginning of each day\n",
    "    df_time_series['cumulative_return'] = df_time_series['return_DA_RT'].cumsum()\n",
    "    df_time_series['cumulative_return'] = df_time_series['cumulative_return'] - df_time_series['cumulative_return'].shift(24)\n",
    "    mean_cum_returns = df_time_series['cumulative_return'].mean()\n",
    "\n",
    "    # Return a dataframe\n",
    "    return pd.DataFrame({\n",
    "        'mean_returns': mean_returns,\n",
    "        'std_returns': std_returns,\n",
    "        'skew_returns': skew_returns,\n",
    "        'kurt_returns': kurt_returns,\n",
    "        'max_return': max_return,\n",
    "        'min_return': min_return,\n",
    "        'median_return': median_return,\n",
    "        'rolling_std': rolling_std,\n",
    "        'mad': mad,\n",
    "        'max_min_diff': max_min_diff,\n",
    "        'var_return': var_return,\n",
    "        'expected_shortfall_return': expected_shortfall_return,\n",
    "        'drawdown': drawdown,\n",
    "        'proportion_positiv_ret': proportion_positiv_ret,\n",
    "        'proportion_negativ_ret': proportion_negativ_ret,\n",
    "        'return_25_quantile': return_25_quantile,\n",
    "        'return_50_quantile': return_50_quantile,\n",
    "        'return_75_quantile': return_75_quantile,\n",
    "        # hourly\n",
    "        **{\n",
    "            f'avg_{h}_returns': avg_h_returns[h] for h in range(24)\n",
    "        },\n",
    "        **{\n",
    "            f'std_{h}_returns': std_h_returns[h] for h in range(24)\n",
    "        },\n",
    "        'mean_cum_returns': mean_cum_returns\n",
    "    }, index=[spp_name])\n"
   ],
   "id": "acc034ff7e59b4f",
   "outputs": [],
   "execution_count": 29
  },
  {
   "metadata": {
    "ExecuteTime": {
     "end_time": "2024-12-04T19:23:15.727142Z",
     "start_time": "2024-12-04T19:23:15.574899Z"
    }
   },
   "cell_type": "code",
   "source": "virtual_trading_dataset[\"hour\"] = virtual_trading_dataset[\"date\"].dt.hour",
   "id": "66cc7e2be159c4d",
   "outputs": [],
   "execution_count": 31
  },
  {
   "metadata": {
    "ExecuteTime": {
     "end_time": "2024-12-04T19:27:53.129010Z",
     "start_time": "2024-12-04T19:23:44.737070Z"
    }
   },
   "cell_type": "code",
   "source": "df_features = virtual_trading_dataset.groupby('settlementPoint').apply(feature_extraction)",
   "id": "c414e460d326d0af",
   "outputs": [
    {
     "name": "stderr",
     "output_type": "stream",
     "text": [
      "/tmp/ipykernel_45634/4138314941.py:1: DeprecationWarning: DataFrameGroupBy.apply operated on the grouping columns. This behavior is deprecated, and in a future version of pandas the grouping columns will be excluded from the operation. Either pass `include_groups=False` to exclude the groupings or explicitly select the grouping columns after groupby to silence this warning.\n",
      "  df_features = virtual_trading_dataset.groupby('settlementPoint').apply(feature_extraction)\n"
     ]
    }
   ],
   "execution_count": 33
  },
  {
   "metadata": {
    "ExecuteTime": {
     "end_time": "2024-12-04T19:29:17.610298Z",
     "start_time": "2024-12-04T19:29:16.996662Z"
    }
   },
   "cell_type": "code",
   "source": [
    "# PCA to reduce the dimensionality of the features and see if we can find some patterns\n",
    "from sklearn.decomposition import PCA\n",
    "from sklearn.preprocessing import StandardScaler\n",
    "\n",
    "scaler = StandardScaler()\n",
    "X = scaler.fit_transform(df_features)\n",
    "pca = PCA(n_components=2)\n",
    "X_pca = pca.fit_transform(X)\n",
    "\n",
    "# Plot the PCA results\n",
    "import matplotlib.pyplot as plt\n",
    "\n",
    "plt.scatter(X_pca[:, 0], X_pca[:, 1])\n",
    "plt.xlabel(\"Principal Component 1\")\n",
    "plt.ylabel(\"Principal Component 2\")\n",
    "plt.title(\"PCA of the Features\")\n",
    "plt.show()"
   ],
   "id": "8075347f79a44542",
   "outputs": [
    {
     "data": {
      "text/plain": [
       "<Figure size 640x480 with 1 Axes>"
      ],
      "image/png": "[encoded data removed]"
     },
     "metadata": {},
     "output_type": "display_data"
    }
   ],
   "execution_count": 35
  },
  {
   "metadata": {},
   "cell_type": "code",
   "outputs": [],
   "execution_count": null,
   "source": "",
   "id": "b2926a5e8d579f6c"
  }
 ],
 "metadata": {
  "kernelspec": {
   "display_name": "Python 3",
   "language": "python",
   "name": "python3"
  },
  "language_info": {
   "codemirror_mode": {
    "name": "ipython",
    "version": 2
   },
   "file_extension": ".py",
   "mimetype": "text/x-python",
   "name": "python",
   "nbconvert_exporter": "python",
   "pygments_lexer": "ipython2",
   "version": "2.7.6"
  }
 },
 "nbformat": 4,
 "nbformat_minor": 5
}
